{
 "cells": [
  {
   "cell_type": "markdown",
   "metadata": {},
   "source": [
    "# Matriks\n",
    "### Apa itu matriks\n",
    "Matriks adalah suatu susunan elemen atau angka yang disusun dalam bentuk persegi panjang, dengan baris (row) dan kolom (column).\n",
    " \n",
    "Matriks larik persegi panjang dari bilangan real atau kompleks\n",
    "\n",
    "Matriks tersusun dalam baris dan kolom, baris sumbu $x$ sedangkan kolom sumbu $y$\n",
    "\n",
    "### Definisi Matriks\n",
    "Matriks adalah kumpulan angka atau elemen yang disusun dalam bentuk kotak, yang memiliki baris dan kolom. Biasanya, matriks digunakan untuk memecahkan masalah matematika seperti sistem persamaan atau transformasi gambar.\n",
    "\n",
    "Contoh Matriks:\n",
    "\n",
    "\n",
    "$ A = \\begin{bmatrix}\n",
    "1 & 2 & 3 \\\\ 4 & 5 & 6\n",
    "\\end{bmatrix} $\n",
    "\n",
    "Ini adalah matriks berukuran 2 x 3 (2 baris dan 3 kolom).\n",
    "\n",
    "Baris pertama: 1, 2, 3\n",
    "Baris kedua: 4, 5, 6\n",
    "\n",
    "\n",
    "### Penjumlahan Matriks\n",
    "Penjumlahan matriks adalah proses menambahkan elemen-elemen yang berada pada posisi yang sama dari dua matriks yang memiliki ukuran yang sama.\n",
    "\n",
    "Langkah-langkah:\n",
    "Pastikan kedua matriks memiliki jumlah baris dan kolom yang sama.\n",
    "Jumlahkan elemen-elemen yang berada pada posisi yang sama.\n",
    "Contoh:\n",
    "Misalkan ada dua matriks:\n",
    "\n",
    "$\n",
    "A = \\begin{pmatrix}\n",
    "1 & 2 \\\\\n",
    "3 & 4\n",
    "\\end{pmatrix} \\quad \\text{dan} \\quad B = \\begin{pmatrix}\n",
    "5 & 6 \\\\\n",
    "7 & 8\n",
    "\\end{pmatrix}\n",
    "$"
   ]
  }
 ],
 "metadata": {
  "language_info": {
   "name": "python"
  }
 },
 "nbformat": 4,
 "nbformat_minor": 2
}
